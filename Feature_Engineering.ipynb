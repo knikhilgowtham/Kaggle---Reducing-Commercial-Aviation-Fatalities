{
 "cells": [
  {
   "cell_type": "markdown",
   "id": "eb3b8813",
   "metadata": {},
   "source": [
    "# Data Preprocessing and Feature Engineering\n",
    "## 1. Data Preprocessing\n",
    "### 1.1 Encode categorical features"
   ]
  },
  {
   "cell_type": "code",
   "execution_count": 53,
   "id": "0f721eb1",
   "metadata": {},
   "outputs": [],
   "source": [
    "# import libraries\n",
    "import pandas as pd\n",
    "import numpy as np\n",
    "import pickle\n",
    "from sklearn.preprocessing import OneHotEncoder\n",
    "from sklearn.preprocessing import StandardScaler\n",
    "\n",
    "from scipy import signal\n",
    "from biosppy.signals import ecg \n",
    "from biosppy.signals import eeg\n",
    "from biosppy.signals import resp\n",
    "from scipy.interpolate import interp1d \n",
    "\n",
    "import warnings\n",
    "warnings.filterwarnings(\"ignore\")"
   ]
  },
  {
   "cell_type": "code",
   "execution_count": 2,
   "id": "8f7727a4",
   "metadata": {},
   "outputs": [],
   "source": [
    "# load data\n",
    "train_df = pd.read_csv(\"../data/train.csv\")\n",
    "test_df = pd.read_csv(\"../data/test.csv\")"
   ]
  },
  {
   "cell_type": "code",
   "execution_count": 3,
   "id": "6dc58d4b",
   "metadata": {},
   "outputs": [],
   "source": [
    "# separate labels, categorical features and numerical features\n",
    "y_train = train_df[\"event\"]\n",
    "cat_features = train_df[[\"crew\", \"seat\"]]\n",
    "train_df = train_df.drop([\"crew\", \"seat\", \"experiment\", \"event\"], axis=1)"
   ]
  },
  {
   "cell_type": "code",
   "execution_count": 4,
   "id": "2c61475a",
   "metadata": {},
   "outputs": [
    {
     "data": {
      "text/html": [
       "<style>#sk-container-id-1 {color: black;background-color: white;}#sk-container-id-1 pre{padding: 0;}#sk-container-id-1 div.sk-toggleable {background-color: white;}#sk-container-id-1 label.sk-toggleable__label {cursor: pointer;display: block;width: 100%;margin-bottom: 0;padding: 0.3em;box-sizing: border-box;text-align: center;}#sk-container-id-1 label.sk-toggleable__label-arrow:before {content: \"▸\";float: left;margin-right: 0.25em;color: #696969;}#sk-container-id-1 label.sk-toggleable__label-arrow:hover:before {color: black;}#sk-container-id-1 div.sk-estimator:hover label.sk-toggleable__label-arrow:before {color: black;}#sk-container-id-1 div.sk-toggleable__content {max-height: 0;max-width: 0;overflow: hidden;text-align: left;background-color: #f0f8ff;}#sk-container-id-1 div.sk-toggleable__content pre {margin: 0.2em;color: black;border-radius: 0.25em;background-color: #f0f8ff;}#sk-container-id-1 input.sk-toggleable__control:checked~div.sk-toggleable__content {max-height: 200px;max-width: 100%;overflow: auto;}#sk-container-id-1 input.sk-toggleable__control:checked~label.sk-toggleable__label-arrow:before {content: \"▾\";}#sk-container-id-1 div.sk-estimator input.sk-toggleable__control:checked~label.sk-toggleable__label {background-color: #d4ebff;}#sk-container-id-1 div.sk-label input.sk-toggleable__control:checked~label.sk-toggleable__label {background-color: #d4ebff;}#sk-container-id-1 input.sk-hidden--visually {border: 0;clip: rect(1px 1px 1px 1px);clip: rect(1px, 1px, 1px, 1px);height: 1px;margin: -1px;overflow: hidden;padding: 0;position: absolute;width: 1px;}#sk-container-id-1 div.sk-estimator {font-family: monospace;background-color: #f0f8ff;border: 1px dotted black;border-radius: 0.25em;box-sizing: border-box;margin-bottom: 0.5em;}#sk-container-id-1 div.sk-estimator:hover {background-color: #d4ebff;}#sk-container-id-1 div.sk-parallel-item::after {content: \"\";width: 100%;border-bottom: 1px solid gray;flex-grow: 1;}#sk-container-id-1 div.sk-label:hover label.sk-toggleable__label {background-color: #d4ebff;}#sk-container-id-1 div.sk-serial::before {content: \"\";position: absolute;border-left: 1px solid gray;box-sizing: border-box;top: 0;bottom: 0;left: 50%;z-index: 0;}#sk-container-id-1 div.sk-serial {display: flex;flex-direction: column;align-items: center;background-color: white;padding-right: 0.2em;padding-left: 0.2em;position: relative;}#sk-container-id-1 div.sk-item {position: relative;z-index: 1;}#sk-container-id-1 div.sk-parallel {display: flex;align-items: stretch;justify-content: center;background-color: white;position: relative;}#sk-container-id-1 div.sk-item::before, #sk-container-id-1 div.sk-parallel-item::before {content: \"\";position: absolute;border-left: 1px solid gray;box-sizing: border-box;top: 0;bottom: 0;left: 50%;z-index: -1;}#sk-container-id-1 div.sk-parallel-item {display: flex;flex-direction: column;z-index: 1;position: relative;background-color: white;}#sk-container-id-1 div.sk-parallel-item:first-child::after {align-self: flex-end;width: 50%;}#sk-container-id-1 div.sk-parallel-item:last-child::after {align-self: flex-start;width: 50%;}#sk-container-id-1 div.sk-parallel-item:only-child::after {width: 0;}#sk-container-id-1 div.sk-dashed-wrapped {border: 1px dashed gray;margin: 0 0.4em 0.5em 0.4em;box-sizing: border-box;padding-bottom: 0.4em;background-color: white;}#sk-container-id-1 div.sk-label label {font-family: monospace;font-weight: bold;display: inline-block;line-height: 1.2em;}#sk-container-id-1 div.sk-label-container {text-align: center;}#sk-container-id-1 div.sk-container {/* jupyter's `normalize.less` sets `[hidden] { display: none; }` but bootstrap.min.css set `[hidden] { display: none !important; }` so we also need the `!important` here to be able to override the default hidden behavior on the sphinx rendered scikit-learn.org. See: https://github.com/scikit-learn/scikit-learn/issues/21755 */display: inline-block !important;position: relative;}#sk-container-id-1 div.sk-text-repr-fallback {display: none;}</style><div id=\"sk-container-id-1\" class=\"sk-top-container\"><div class=\"sk-text-repr-fallback\"><pre>OneHotEncoder(handle_unknown=&#x27;ignore&#x27;)</pre><b>In a Jupyter environment, please rerun this cell to show the HTML representation or trust the notebook. <br />On GitHub, the HTML representation is unable to render, please try loading this page with nbviewer.org.</b></div><div class=\"sk-container\" hidden><div class=\"sk-item\"><div class=\"sk-estimator sk-toggleable\"><input class=\"sk-toggleable__control sk-hidden--visually\" id=\"sk-estimator-id-1\" type=\"checkbox\" checked><label for=\"sk-estimator-id-1\" class=\"sk-toggleable__label sk-toggleable__label-arrow\">OneHotEncoder</label><div class=\"sk-toggleable__content\"><pre>OneHotEncoder(handle_unknown=&#x27;ignore&#x27;)</pre></div></div></div></div></div>"
      ],
      "text/plain": [
       "OneHotEncoder(handle_unknown='ignore')"
      ]
     },
     "execution_count": 4,
     "metadata": {},
     "output_type": "execute_result"
    }
   ],
   "source": [
    "# fit one hot encoder on train data\n",
    "cat_encoder = OneHotEncoder(handle_unknown='ignore')\n",
    "cat_encoder.fit(cat_features)"
   ]
  },
  {
   "cell_type": "code",
   "execution_count": 55,
   "id": "13a3ea59",
   "metadata": {},
   "outputs": [],
   "source": [
    "# store the one hot encoder, we will use this on real time data\n",
    "pickle.dump(cat_encoder, open('cat_encoder.pkl', 'wb'))"
   ]
  },
  {
   "cell_type": "code",
   "execution_count": 5,
   "id": "566c3a24",
   "metadata": {},
   "outputs": [],
   "source": [
    "# one hot encode train data\n",
    "cat_features_encoded = cat_encoder.transform(cat_features).toarray()"
   ]
  },
  {
   "cell_type": "code",
   "execution_count": 6,
   "id": "4a9ba784",
   "metadata": {},
   "outputs": [
    {
     "data": {
      "text/plain": [
       "(4867421, 11)"
      ]
     },
     "execution_count": 6,
     "metadata": {},
     "output_type": "execute_result"
    }
   ],
   "source": [
    "cat_features_encoded.shape"
   ]
  },
  {
   "cell_type": "markdown",
   "id": "4d6cd7b7",
   "metadata": {},
   "source": [
    "### 1.2 Scale numerical features"
   ]
  },
  {
   "cell_type": "code",
   "execution_count": 7,
   "id": "488b7869",
   "metadata": {},
   "outputs": [
    {
     "data": {
      "text/html": [
       "<style>#sk-container-id-2 {color: black;background-color: white;}#sk-container-id-2 pre{padding: 0;}#sk-container-id-2 div.sk-toggleable {background-color: white;}#sk-container-id-2 label.sk-toggleable__label {cursor: pointer;display: block;width: 100%;margin-bottom: 0;padding: 0.3em;box-sizing: border-box;text-align: center;}#sk-container-id-2 label.sk-toggleable__label-arrow:before {content: \"▸\";float: left;margin-right: 0.25em;color: #696969;}#sk-container-id-2 label.sk-toggleable__label-arrow:hover:before {color: black;}#sk-container-id-2 div.sk-estimator:hover label.sk-toggleable__label-arrow:before {color: black;}#sk-container-id-2 div.sk-toggleable__content {max-height: 0;max-width: 0;overflow: hidden;text-align: left;background-color: #f0f8ff;}#sk-container-id-2 div.sk-toggleable__content pre {margin: 0.2em;color: black;border-radius: 0.25em;background-color: #f0f8ff;}#sk-container-id-2 input.sk-toggleable__control:checked~div.sk-toggleable__content {max-height: 200px;max-width: 100%;overflow: auto;}#sk-container-id-2 input.sk-toggleable__control:checked~label.sk-toggleable__label-arrow:before {content: \"▾\";}#sk-container-id-2 div.sk-estimator input.sk-toggleable__control:checked~label.sk-toggleable__label {background-color: #d4ebff;}#sk-container-id-2 div.sk-label input.sk-toggleable__control:checked~label.sk-toggleable__label {background-color: #d4ebff;}#sk-container-id-2 input.sk-hidden--visually {border: 0;clip: rect(1px 1px 1px 1px);clip: rect(1px, 1px, 1px, 1px);height: 1px;margin: -1px;overflow: hidden;padding: 0;position: absolute;width: 1px;}#sk-container-id-2 div.sk-estimator {font-family: monospace;background-color: #f0f8ff;border: 1px dotted black;border-radius: 0.25em;box-sizing: border-box;margin-bottom: 0.5em;}#sk-container-id-2 div.sk-estimator:hover {background-color: #d4ebff;}#sk-container-id-2 div.sk-parallel-item::after {content: \"\";width: 100%;border-bottom: 1px solid gray;flex-grow: 1;}#sk-container-id-2 div.sk-label:hover label.sk-toggleable__label {background-color: #d4ebff;}#sk-container-id-2 div.sk-serial::before {content: \"\";position: absolute;border-left: 1px solid gray;box-sizing: border-box;top: 0;bottom: 0;left: 50%;z-index: 0;}#sk-container-id-2 div.sk-serial {display: flex;flex-direction: column;align-items: center;background-color: white;padding-right: 0.2em;padding-left: 0.2em;position: relative;}#sk-container-id-2 div.sk-item {position: relative;z-index: 1;}#sk-container-id-2 div.sk-parallel {display: flex;align-items: stretch;justify-content: center;background-color: white;position: relative;}#sk-container-id-2 div.sk-item::before, #sk-container-id-2 div.sk-parallel-item::before {content: \"\";position: absolute;border-left: 1px solid gray;box-sizing: border-box;top: 0;bottom: 0;left: 50%;z-index: -1;}#sk-container-id-2 div.sk-parallel-item {display: flex;flex-direction: column;z-index: 1;position: relative;background-color: white;}#sk-container-id-2 div.sk-parallel-item:first-child::after {align-self: flex-end;width: 50%;}#sk-container-id-2 div.sk-parallel-item:last-child::after {align-self: flex-start;width: 50%;}#sk-container-id-2 div.sk-parallel-item:only-child::after {width: 0;}#sk-container-id-2 div.sk-dashed-wrapped {border: 1px dashed gray;margin: 0 0.4em 0.5em 0.4em;box-sizing: border-box;padding-bottom: 0.4em;background-color: white;}#sk-container-id-2 div.sk-label label {font-family: monospace;font-weight: bold;display: inline-block;line-height: 1.2em;}#sk-container-id-2 div.sk-label-container {text-align: center;}#sk-container-id-2 div.sk-container {/* jupyter's `normalize.less` sets `[hidden] { display: none; }` but bootstrap.min.css set `[hidden] { display: none !important; }` so we also need the `!important` here to be able to override the default hidden behavior on the sphinx rendered scikit-learn.org. See: https://github.com/scikit-learn/scikit-learn/issues/21755 */display: inline-block !important;position: relative;}#sk-container-id-2 div.sk-text-repr-fallback {display: none;}</style><div id=\"sk-container-id-2\" class=\"sk-top-container\"><div class=\"sk-text-repr-fallback\"><pre>StandardScaler()</pre><b>In a Jupyter environment, please rerun this cell to show the HTML representation or trust the notebook. <br />On GitHub, the HTML representation is unable to render, please try loading this page with nbviewer.org.</b></div><div class=\"sk-container\" hidden><div class=\"sk-item\"><div class=\"sk-estimator sk-toggleable\"><input class=\"sk-toggleable__control sk-hidden--visually\" id=\"sk-estimator-id-2\" type=\"checkbox\" checked><label for=\"sk-estimator-id-2\" class=\"sk-toggleable__label sk-toggleable__label-arrow\">StandardScaler</label><div class=\"sk-toggleable__content\"><pre>StandardScaler()</pre></div></div></div></div></div>"
      ],
      "text/plain": [
       "StandardScaler()"
      ]
     },
     "execution_count": 7,
     "metadata": {},
     "output_type": "execute_result"
    }
   ],
   "source": [
    "# fit standard scaler on train data\n",
    "scaler = StandardScaler()\n",
    "scaler.fit(train_df)"
   ]
  },
  {
   "cell_type": "code",
   "execution_count": 8,
   "id": "87601e35",
   "metadata": {},
   "outputs": [],
   "source": [
    "scaled_features = scaler.transform(train_df)"
   ]
  },
  {
   "cell_type": "code",
   "execution_count": 61,
   "id": "e5521912",
   "metadata": {},
   "outputs": [
    {
     "data": {
      "text/plain": [
       "(4867421, 24)"
      ]
     },
     "execution_count": 61,
     "metadata": {},
     "output_type": "execute_result"
    }
   ],
   "source": [
    "scaled_features.shape"
   ]
  },
  {
   "cell_type": "code",
   "execution_count": 54,
   "id": "958f5938",
   "metadata": {},
   "outputs": [],
   "source": [
    "# store the standard scaler, we will use this on real time data\n",
    "pickle.dump(scaler, open('standard_scaler.pkl', 'wb'))"
   ]
  },
  {
   "cell_type": "code",
   "execution_count": 11,
   "id": "c517595a",
   "metadata": {},
   "outputs": [],
   "source": [
    "# we will store final results in X_train\n",
    "X_train = pd.concat([pd.DataFrame(cat_features_encoded, columns=cat_encoder.get_feature_names_out()), pd.DataFrame(scaled_features, columns=train_df.columns)], axis=1)"
   ]
  },
  {
   "cell_type": "code",
   "execution_count": 12,
   "id": "15524ff0",
   "metadata": {},
   "outputs": [
    {
     "data": {
      "text/html": [
       "<div>\n",
       "<style scoped>\n",
       "    .dataframe tbody tr th:only-of-type {\n",
       "        vertical-align: middle;\n",
       "    }\n",
       "\n",
       "    .dataframe tbody tr th {\n",
       "        vertical-align: top;\n",
       "    }\n",
       "\n",
       "    .dataframe thead th {\n",
       "        text-align: right;\n",
       "    }\n",
       "</style>\n",
       "<table border=\"1\" class=\"dataframe\">\n",
       "  <thead>\n",
       "    <tr style=\"text-align: right;\">\n",
       "      <th></th>\n",
       "      <th>crew_1</th>\n",
       "      <th>crew_2</th>\n",
       "      <th>crew_3</th>\n",
       "      <th>crew_4</th>\n",
       "      <th>crew_5</th>\n",
       "      <th>crew_6</th>\n",
       "      <th>crew_7</th>\n",
       "      <th>crew_8</th>\n",
       "      <th>crew_13</th>\n",
       "      <th>seat_0</th>\n",
       "      <th>...</th>\n",
       "      <th>eeg_f4</th>\n",
       "      <th>eeg_c4</th>\n",
       "      <th>eeg_p4</th>\n",
       "      <th>eeg_poz</th>\n",
       "      <th>eeg_c3</th>\n",
       "      <th>eeg_cz</th>\n",
       "      <th>eeg_o2</th>\n",
       "      <th>ecg</th>\n",
       "      <th>r</th>\n",
       "      <th>gsr</th>\n",
       "    </tr>\n",
       "  </thead>\n",
       "  <tbody>\n",
       "    <tr>\n",
       "      <th>0</th>\n",
       "      <td>1.0</td>\n",
       "      <td>0.0</td>\n",
       "      <td>0.0</td>\n",
       "      <td>0.0</td>\n",
       "      <td>0.0</td>\n",
       "      <td>0.0</td>\n",
       "      <td>0.0</td>\n",
       "      <td>0.0</td>\n",
       "      <td>0.0</td>\n",
       "      <td>0.0</td>\n",
       "      <td>...</td>\n",
       "      <td>0.044743</td>\n",
       "      <td>1.791526</td>\n",
       "      <td>1.035794</td>\n",
       "      <td>1.036489</td>\n",
       "      <td>1.010907</td>\n",
       "      <td>-0.222505</td>\n",
       "      <td>0.606679</td>\n",
       "      <td>-0.807615</td>\n",
       "      <td>0.978227</td>\n",
       "      <td>-0.918807</td>\n",
       "    </tr>\n",
       "    <tr>\n",
       "      <th>1</th>\n",
       "      <td>1.0</td>\n",
       "      <td>0.0</td>\n",
       "      <td>0.0</td>\n",
       "      <td>0.0</td>\n",
       "      <td>0.0</td>\n",
       "      <td>0.0</td>\n",
       "      <td>0.0</td>\n",
       "      <td>0.0</td>\n",
       "      <td>0.0</td>\n",
       "      <td>0.0</td>\n",
       "      <td>...</td>\n",
       "      <td>0.140130</td>\n",
       "      <td>1.489485</td>\n",
       "      <td>1.153979</td>\n",
       "      <td>1.063078</td>\n",
       "      <td>1.049268</td>\n",
       "      <td>0.045027</td>\n",
       "      <td>0.744553</td>\n",
       "      <td>-0.807615</td>\n",
       "      <td>0.978227</td>\n",
       "      <td>-0.918807</td>\n",
       "    </tr>\n",
       "    <tr>\n",
       "      <th>2</th>\n",
       "      <td>1.0</td>\n",
       "      <td>0.0</td>\n",
       "      <td>0.0</td>\n",
       "      <td>0.0</td>\n",
       "      <td>0.0</td>\n",
       "      <td>0.0</td>\n",
       "      <td>0.0</td>\n",
       "      <td>0.0</td>\n",
       "      <td>0.0</td>\n",
       "      <td>0.0</td>\n",
       "      <td>...</td>\n",
       "      <td>0.273377</td>\n",
       "      <td>-0.614862</td>\n",
       "      <td>1.153774</td>\n",
       "      <td>1.252968</td>\n",
       "      <td>1.102560</td>\n",
       "      <td>0.055446</td>\n",
       "      <td>0.935755</td>\n",
       "      <td>-0.807615</td>\n",
       "      <td>0.978227</td>\n",
       "      <td>-0.918807</td>\n",
       "    </tr>\n",
       "    <tr>\n",
       "      <th>3</th>\n",
       "      <td>1.0</td>\n",
       "      <td>0.0</td>\n",
       "      <td>0.0</td>\n",
       "      <td>0.0</td>\n",
       "      <td>0.0</td>\n",
       "      <td>0.0</td>\n",
       "      <td>0.0</td>\n",
       "      <td>0.0</td>\n",
       "      <td>0.0</td>\n",
       "      <td>0.0</td>\n",
       "      <td>...</td>\n",
       "      <td>0.243756</td>\n",
       "      <td>0.875642</td>\n",
       "      <td>1.380259</td>\n",
       "      <td>1.224039</td>\n",
       "      <td>0.947126</td>\n",
       "      <td>0.106441</td>\n",
       "      <td>0.797634</td>\n",
       "      <td>-0.807615</td>\n",
       "      <td>0.978227</td>\n",
       "      <td>-0.918807</td>\n",
       "    </tr>\n",
       "    <tr>\n",
       "      <th>4</th>\n",
       "      <td>1.0</td>\n",
       "      <td>0.0</td>\n",
       "      <td>0.0</td>\n",
       "      <td>0.0</td>\n",
       "      <td>0.0</td>\n",
       "      <td>0.0</td>\n",
       "      <td>0.0</td>\n",
       "      <td>0.0</td>\n",
       "      <td>0.0</td>\n",
       "      <td>0.0</td>\n",
       "      <td>...</td>\n",
       "      <td>0.161679</td>\n",
       "      <td>0.289967</td>\n",
       "      <td>1.356063</td>\n",
       "      <td>1.225626</td>\n",
       "      <td>0.995540</td>\n",
       "      <td>0.063637</td>\n",
       "      <td>0.959812</td>\n",
       "      <td>-0.807615</td>\n",
       "      <td>0.978227</td>\n",
       "      <td>-0.918807</td>\n",
       "    </tr>\n",
       "  </tbody>\n",
       "</table>\n",
       "<p>5 rows × 35 columns</p>\n",
       "</div>"
      ],
      "text/plain": [
       "   crew_1  crew_2  crew_3  crew_4  crew_5  crew_6  crew_7  crew_8  crew_13  \\\n",
       "0     1.0     0.0     0.0     0.0     0.0     0.0     0.0     0.0      0.0   \n",
       "1     1.0     0.0     0.0     0.0     0.0     0.0     0.0     0.0      0.0   \n",
       "2     1.0     0.0     0.0     0.0     0.0     0.0     0.0     0.0      0.0   \n",
       "3     1.0     0.0     0.0     0.0     0.0     0.0     0.0     0.0      0.0   \n",
       "4     1.0     0.0     0.0     0.0     0.0     0.0     0.0     0.0      0.0   \n",
       "\n",
       "   seat_0  ...    eeg_f4    eeg_c4    eeg_p4   eeg_poz    eeg_c3    eeg_cz  \\\n",
       "0     0.0  ...  0.044743  1.791526  1.035794  1.036489  1.010907 -0.222505   \n",
       "1     0.0  ...  0.140130  1.489485  1.153979  1.063078  1.049268  0.045027   \n",
       "2     0.0  ...  0.273377 -0.614862  1.153774  1.252968  1.102560  0.055446   \n",
       "3     0.0  ...  0.243756  0.875642  1.380259  1.224039  0.947126  0.106441   \n",
       "4     0.0  ...  0.161679  0.289967  1.356063  1.225626  0.995540  0.063637   \n",
       "\n",
       "     eeg_o2       ecg         r       gsr  \n",
       "0  0.606679 -0.807615  0.978227 -0.918807  \n",
       "1  0.744553 -0.807615  0.978227 -0.918807  \n",
       "2  0.935755 -0.807615  0.978227 -0.918807  \n",
       "3  0.797634 -0.807615  0.978227 -0.918807  \n",
       "4  0.959812 -0.807615  0.978227 -0.918807  \n",
       "\n",
       "[5 rows x 35 columns]"
      ]
     },
     "execution_count": 12,
     "metadata": {},
     "output_type": "execute_result"
    }
   ],
   "source": [
    "X_train.head(5)"
   ]
  },
  {
   "cell_type": "code",
   "execution_count": 13,
   "id": "70814490",
   "metadata": {},
   "outputs": [
    {
     "data": {
      "text/plain": [
       "(4867421, 35)"
      ]
     },
     "execution_count": 13,
     "metadata": {},
     "output_type": "execute_result"
    }
   ],
   "source": [
    "X_train.shape"
   ]
  },
  {
   "cell_type": "code",
   "execution_count": 14,
   "id": "d60eb8bd",
   "metadata": {},
   "outputs": [
    {
     "data": {
      "text/plain": [
       "Index(['crew_1', 'crew_2', 'crew_3', 'crew_4', 'crew_5', 'crew_6', 'crew_7',\n",
       "       'crew_8', 'crew_13', 'seat_0', 'seat_1', 'time', 'eeg_fp1', 'eeg_f7',\n",
       "       'eeg_f8', 'eeg_t4', 'eeg_t6', 'eeg_t5', 'eeg_t3', 'eeg_fp2', 'eeg_o1',\n",
       "       'eeg_p3', 'eeg_pz', 'eeg_f3', 'eeg_fz', 'eeg_f4', 'eeg_c4', 'eeg_p4',\n",
       "       'eeg_poz', 'eeg_c3', 'eeg_cz', 'eeg_o2', 'ecg', 'r', 'gsr'],\n",
       "      dtype='object')"
      ]
     },
     "execution_count": 14,
     "metadata": {},
     "output_type": "execute_result"
    }
   ],
   "source": [
    "X_train.columns"
   ]
  },
  {
   "cell_type": "markdown",
   "id": "43107dcc",
   "metadata": {},
   "source": [
    "## 2. Extract new features\n",
    "\n",
    "We will be using the biosppy module for processing biosignals.\n",
    "\n",
    "1. ECG data: we will use biosppy.signals.ecg.ecg for deriving heart rate from ecg signals.\n",
    "2. Respiration data: we will use biosppy.signals.resp.resp for deriving respiration rate from respiration data.\n",
    "3. EEG data: we will use biosppy.signals.eeg.get_power_features for deriving frequency bands from eeg electrodes data.\n",
    "\n",
    "These functions take the raw data of different time stamps and derive the output. However, they do not derive the data for all the timestamps. Hence, we will use interpolation on the derived data to get the output for all the time stamps in our data.\n"
   ]
  },
  {
   "cell_type": "code",
   "execution_count": 24,
   "id": "9e7c4d49",
   "metadata": {},
   "outputs": [],
   "source": [
    "#https://docs.scipy.org/doc/scipy/reference/generated/scipy.interpolate.interp1d.html\n",
    "def interpolation_fn(timestamps,biosppy_ts, biosppy_values):\n",
    "    \"\"\"\n",
    "    Interpolation function to produce outputs all timestamps.\n",
    "    \"\"\"\n",
    "    interpolation = interp1d(biosppy_ts,biosppy_values, kind=\"linear\", fill_value=\"extrapolate\")\n",
    "    return interpolation(timestamps)"
   ]
  },
  {
   "cell_type": "markdown",
   "id": "b79de229",
   "metadata": {},
   "source": [
    "\n",
    "The train data is grouped by crew and for every crew, the data is grouped by the cognitive case which was tried to reproduce (column 'experiment') and is sorted as per time.\n",
    "\n",
    "Since our data is already grouped and sorted, we can store them in different dataframes and pass it to these functions separately because each crew and cognitive case could have different values for the signals.\n",
    "### 2.1 Store data to separate dataframes"
   ]
  },
  {
   "cell_type": "code",
   "execution_count": 15,
   "id": "da8f3f7d",
   "metadata": {},
   "outputs": [],
   "source": [
    "# load data\n",
    "train_df = pd.read_csv(\"../data/train.csv\")\n",
    "test_df = pd.read_csv(\"../data/test.csv\")"
   ]
  },
  {
   "cell_type": "code",
   "execution_count": 17,
   "id": "8eb83f31",
   "metadata": {},
   "outputs": [],
   "source": [
    "# get data of different cognitive states\n",
    "train_ca_df = train_df[train_df[\"experiment\"]==\"CA\"]\n",
    "train_da_df = train_df[train_df[\"experiment\"]==\"DA\"]\n",
    "train_ss_df = train_df[train_df[\"experiment\"]==\"SS\"]"
   ]
  },
  {
   "cell_type": "code",
   "execution_count": 18,
   "id": "ba89cf6e",
   "metadata": {},
   "outputs": [],
   "source": [
    "# get data of different crews for case \"CA\"\n",
    "train_ca_1_df = train_ca_df[train_df[\"crew\"]==1]\n",
    "train_ca_2_df = train_ca_df[train_df[\"crew\"]==2]\n",
    "train_ca_3_df = train_ca_df[train_df[\"crew\"]==3]\n",
    "train_ca_4_df = train_ca_df[train_df[\"crew\"]==4]\n",
    "train_ca_5_df = train_ca_df[train_df[\"crew\"]==5]\n",
    "train_ca_6_df = train_ca_df[train_df[\"crew\"]==6]\n",
    "train_ca_7_df = train_ca_df[train_df[\"crew\"]==7]\n",
    "train_ca_8_df = train_ca_df[train_df[\"crew\"]==8]\n",
    "train_ca_13_df = train_ca_df[train_df[\"crew\"]==13]"
   ]
  },
  {
   "cell_type": "code",
   "execution_count": 19,
   "id": "ad572e51",
   "metadata": {},
   "outputs": [],
   "source": [
    "# get data of different crews for case \"DA\"\n",
    "train_da_1_df = train_da_df[train_df[\"crew\"]==1]\n",
    "train_da_2_df = train_da_df[train_df[\"crew\"]==2]\n",
    "train_da_3_df = train_da_df[train_df[\"crew\"]==3]\n",
    "train_da_4_df = train_da_df[train_df[\"crew\"]==4]\n",
    "train_da_5_df = train_da_df[train_df[\"crew\"]==5]\n",
    "train_da_6_df = train_da_df[train_df[\"crew\"]==6]\n",
    "train_da_7_df = train_da_df[train_df[\"crew\"]==7]\n",
    "train_da_8_df = train_da_df[train_df[\"crew\"]==8]\n",
    "train_da_13_df = train_da_df[train_df[\"crew\"]==13]"
   ]
  },
  {
   "cell_type": "code",
   "execution_count": 20,
   "id": "927a0ccc",
   "metadata": {},
   "outputs": [],
   "source": [
    "# get data of different crews for case \"SS\"\n",
    "train_ss_1_df = train_ss_df[train_df[\"crew\"]==1]\n",
    "train_ss_2_df = train_ss_df[train_df[\"crew\"]==2]\n",
    "train_ss_3_df = train_ss_df[train_df[\"crew\"]==3]\n",
    "train_ss_4_df = train_ss_df[train_df[\"crew\"]==4]\n",
    "train_ss_5_df = train_ss_df[train_df[\"crew\"]==5]\n",
    "train_ss_6_df = train_ss_df[train_df[\"crew\"]==6]\n",
    "train_ss_7_df = train_ss_df[train_df[\"crew\"]==7]\n",
    "train_ss_8_df = train_ss_df[train_df[\"crew\"]==8]\n",
    "train_ss_13_df = train_ss_df[train_df[\"crew\"]==13]"
   ]
  },
  {
   "cell_type": "markdown",
   "id": "cc7a6c0c",
   "metadata": {},
   "source": [
    "### 2.2 Heart rate from ECG data"
   ]
  },
  {
   "cell_type": "markdown",
   "id": "a0356c01",
   "metadata": {},
   "source": [
    "#### 2.2.1 Derive heart rate"
   ]
  },
  {
   "cell_type": "code",
   "execution_count": 21,
   "id": "37efa44d",
   "metadata": {},
   "outputs": [],
   "source": [
    "# compute heart rate\n",
    "# for state \"CA\"\n",
    "ecg_bio_ca_1=ecg.ecg(train_ca_1_df[\"ecg\"],show=False)\n",
    "ecg_bio_ca_2=ecg.ecg(train_ca_2_df[\"ecg\"],show=False)\n",
    "ecg_bio_ca_3=ecg.ecg(train_ca_3_df[\"ecg\"],show=False)\n",
    "ecg_bio_ca_4=ecg.ecg(train_ca_4_df[\"ecg\"],show=False)\n",
    "ecg_bio_ca_5=ecg.ecg(train_ca_5_df[\"ecg\"],show=False)\n",
    "ecg_bio_ca_6=ecg.ecg(train_ca_6_df[\"ecg\"],show=False)\n",
    "ecg_bio_ca_7=ecg.ecg(train_ca_7_df[\"ecg\"],show=False)\n",
    "ecg_bio_ca_8=ecg.ecg(train_ca_8_df[\"ecg\"],show=False)\n",
    "ecg_bio_ca_13=ecg.ecg(train_ca_13_df[\"ecg\"],show=False)\n",
    "\n",
    "# for state \"DA\"\n",
    "ecg_bio_da_1=ecg.ecg(train_da_1_df[\"ecg\"],show=False)\n",
    "ecg_bio_da_2=ecg.ecg(train_da_2_df[\"ecg\"],show=False)\n",
    "ecg_bio_da_3=ecg.ecg(train_da_3_df[\"ecg\"],show=False)\n",
    "ecg_bio_da_4=ecg.ecg(train_da_4_df[\"ecg\"],show=False)\n",
    "ecg_bio_da_5=ecg.ecg(train_da_5_df[\"ecg\"],show=False)\n",
    "ecg_bio_da_6=ecg.ecg(train_da_6_df[\"ecg\"],show=False)\n",
    "ecg_bio_da_7=ecg.ecg(train_da_7_df[\"ecg\"],show=False)\n",
    "ecg_bio_da_8=ecg.ecg(train_da_8_df[\"ecg\"],show=False)\n",
    "ecg_bio_da_13=ecg.ecg(train_da_13_df[\"ecg\"],show=False)\n",
    "\n",
    "# for state \"SS\"\n",
    "ecg_bio_ss_1=ecg.ecg(train_ss_1_df[\"ecg\"],show=False)\n",
    "ecg_bio_ss_2=ecg.ecg(train_ss_2_df[\"ecg\"],show=False)\n",
    "ecg_bio_ss_3=ecg.ecg(train_ss_3_df[\"ecg\"],show=False)\n",
    "ecg_bio_ss_4=ecg.ecg(train_ss_4_df[\"ecg\"],show=False)\n",
    "ecg_bio_ss_5=ecg.ecg(train_ss_5_df[\"ecg\"],show=False)\n",
    "ecg_bio_ss_6=ecg.ecg(train_ss_6_df[\"ecg\"],show=False)\n",
    "ecg_bio_ss_7=ecg.ecg(train_ss_7_df[\"ecg\"],show=False)\n",
    "ecg_bio_ss_8=ecg.ecg(train_ss_8_df[\"ecg\"],show=False)\n",
    "ecg_bio_ss_13=ecg.ecg(train_ss_13_df[\"ecg\"],show=False)"
   ]
  },
  {
   "cell_type": "markdown",
   "id": "4e50ae01",
   "metadata": {},
   "source": [
    "#### 2.2.2 Interpolation of heart rate"
   ]
  },
  {
   "cell_type": "code",
   "execution_count": 25,
   "id": "02be6cb2",
   "metadata": {},
   "outputs": [],
   "source": [
    "# get data for all time stamps (interpolation)\n",
    "# for state \"CA\"\n",
    "heart_rate_ca_1=interpolation_fn(train_ca_1_df[\"time\"],ecg_bio_ca_1[\"heart_rate_ts\"],ecg_bio_ca_1[\"heart_rate\"])\n",
    "heart_rate_ca_2=interpolation_fn(train_ca_2_df[\"time\"],ecg_bio_ca_2[\"heart_rate_ts\"],ecg_bio_ca_2[\"heart_rate\"])\n",
    "heart_rate_ca_3=interpolation_fn(train_ca_3_df[\"time\"],ecg_bio_ca_3[\"heart_rate_ts\"],ecg_bio_ca_3[\"heart_rate\"])\n",
    "heart_rate_ca_4=interpolation_fn(train_ca_4_df[\"time\"],ecg_bio_ca_4[\"heart_rate_ts\"],ecg_bio_ca_4[\"heart_rate\"])\n",
    "heart_rate_ca_5=interpolation_fn(train_ca_5_df[\"time\"],ecg_bio_ca_5[\"heart_rate_ts\"],ecg_bio_ca_5[\"heart_rate\"])\n",
    "heart_rate_ca_6=interpolation_fn(train_ca_6_df[\"time\"],ecg_bio_ca_6[\"heart_rate_ts\"],ecg_bio_ca_6[\"heart_rate\"])\n",
    "heart_rate_ca_7=interpolation_fn(train_ca_7_df[\"time\"],ecg_bio_ca_7[\"heart_rate_ts\"],ecg_bio_ca_7[\"heart_rate\"])\n",
    "heart_rate_ca_8=interpolation_fn(train_ca_8_df[\"time\"],ecg_bio_ca_8[\"heart_rate_ts\"],ecg_bio_ca_8[\"heart_rate\"])\n",
    "heart_rate_ca_13=interpolation_fn(train_ca_13_df[\"time\"],ecg_bio_ca_13[\"heart_rate_ts\"],ecg_bio_ca_13[\"heart_rate\"])\n",
    "\n",
    "# for state \"DA\"\n",
    "heart_rate_da_1=interpolation_fn(train_da_1_df[\"time\"],ecg_bio_da_1[\"heart_rate_ts\"],ecg_bio_da_1[\"heart_rate\"])\n",
    "heart_rate_da_2=interpolation_fn(train_da_2_df[\"time\"],ecg_bio_da_2[\"heart_rate_ts\"],ecg_bio_da_2[\"heart_rate\"])\n",
    "heart_rate_da_3=interpolation_fn(train_da_3_df[\"time\"],ecg_bio_da_3[\"heart_rate_ts\"],ecg_bio_da_3[\"heart_rate\"])\n",
    "heart_rate_da_4=interpolation_fn(train_da_4_df[\"time\"],ecg_bio_da_4[\"heart_rate_ts\"],ecg_bio_da_4[\"heart_rate\"])\n",
    "heart_rate_da_5=interpolation_fn(train_da_5_df[\"time\"],ecg_bio_da_5[\"heart_rate_ts\"],ecg_bio_da_5[\"heart_rate\"])\n",
    "heart_rate_da_6=interpolation_fn(train_da_6_df[\"time\"],ecg_bio_da_6[\"heart_rate_ts\"],ecg_bio_da_6[\"heart_rate\"])\n",
    "heart_rate_da_7=interpolation_fn(train_da_7_df[\"time\"],ecg_bio_da_7[\"heart_rate_ts\"],ecg_bio_da_7[\"heart_rate\"])\n",
    "heart_rate_da_8=interpolation_fn(train_da_8_df[\"time\"],ecg_bio_da_8[\"heart_rate_ts\"],ecg_bio_da_8[\"heart_rate\"])\n",
    "heart_rate_da_13=interpolation_fn(train_da_13_df[\"time\"],ecg_bio_da_13[\"heart_rate_ts\"],ecg_bio_da_13[\"heart_rate\"])\n",
    "\n",
    "# for state \"SS\"\n",
    "heart_rate_ss_1=interpolation_fn(train_ss_1_df[\"time\"],ecg_bio_ss_1[\"heart_rate_ts\"],ecg_bio_ss_1[\"heart_rate\"])\n",
    "heart_rate_ss_2=interpolation_fn(train_ss_2_df[\"time\"],ecg_bio_ss_2[\"heart_rate_ts\"],ecg_bio_ss_2[\"heart_rate\"])\n",
    "heart_rate_ss_3=interpolation_fn(train_ss_3_df[\"time\"],ecg_bio_ss_3[\"heart_rate_ts\"],ecg_bio_ss_3[\"heart_rate\"])\n",
    "heart_rate_ss_4=interpolation_fn(train_ss_4_df[\"time\"],ecg_bio_ss_4[\"heart_rate_ts\"],ecg_bio_ss_4[\"heart_rate\"])\n",
    "heart_rate_ss_5=interpolation_fn(train_ss_5_df[\"time\"],ecg_bio_ss_5[\"heart_rate_ts\"],ecg_bio_ss_5[\"heart_rate\"])\n",
    "heart_rate_ss_6=interpolation_fn(train_ss_6_df[\"time\"],ecg_bio_ss_6[\"heart_rate_ts\"],ecg_bio_ss_6[\"heart_rate\"])\n",
    "heart_rate_ss_7=interpolation_fn(train_ss_7_df[\"time\"],ecg_bio_ss_7[\"heart_rate_ts\"],ecg_bio_ss_7[\"heart_rate\"])\n",
    "heart_rate_ss_8=interpolation_fn(train_ss_8_df[\"time\"],ecg_bio_ss_8[\"heart_rate_ts\"],ecg_bio_ss_8[\"heart_rate\"])\n",
    "heart_rate_ss_13=interpolation_fn(train_ss_13_df[\"time\"],ecg_bio_ss_13[\"heart_rate_ts\"],ecg_bio_ss_13[\"heart_rate\"])"
   ]
  },
  {
   "cell_type": "code",
   "execution_count": 28,
   "id": "d9ca3e17",
   "metadata": {},
   "outputs": [],
   "source": [
    "# concatenate the data in the same order in the train dataframe because we will be including this with the other features\n",
    "heart_rate = np.concatenate(\n",
    "                (heart_rate_ca_1, heart_rate_da_1, heart_rate_ss_1,\n",
    "                heart_rate_ca_2, heart_rate_da_2, heart_rate_ss_2,\n",
    "                heart_rate_ca_3, heart_rate_da_3, heart_rate_ss_3,\n",
    "                heart_rate_ca_4, heart_rate_da_4, heart_rate_ss_4,\n",
    "                heart_rate_ca_5, heart_rate_da_5, heart_rate_ss_5,\n",
    "                heart_rate_ca_6, heart_rate_da_6, heart_rate_ss_6,\n",
    "                heart_rate_ca_7, heart_rate_da_7, heart_rate_ss_7,\n",
    "                heart_rate_ca_8, heart_rate_da_8, heart_rate_ss_8,\n",
    "                heart_rate_ca_13, heart_rate_da_13, heart_rate_ss_13)\n",
    "             )"
   ]
  },
  {
   "cell_type": "code",
   "execution_count": 29,
   "id": "83920c24",
   "metadata": {},
   "outputs": [
    {
     "data": {
      "text/plain": [
       "(4867421,)"
      ]
     },
     "execution_count": 29,
     "metadata": {},
     "output_type": "execute_result"
    }
   ],
   "source": [
    "heart_rate.shape"
   ]
  },
  {
   "cell_type": "code",
   "execution_count": 59,
   "id": "3838d455",
   "metadata": {},
   "outputs": [],
   "source": [
    "X_train[\"heart_rate\"] = heart_rate"
   ]
  },
  {
   "cell_type": "markdown",
   "id": "2bfe872e",
   "metadata": {},
   "source": [
    "### 2.3 Respiration rate from respiration data\n",
    "#### 2.3.1 Derive respiration rate"
   ]
  },
  {
   "cell_type": "code",
   "execution_count": 30,
   "id": "0324c7fb",
   "metadata": {},
   "outputs": [],
   "source": [
    "# for state \"CA\"\n",
    "resp_bio_ca_1=resp.resp(train_ca_1_df[\"r\"],show=False)\n",
    "resp_bio_ca_2=resp.resp(train_ca_2_df[\"r\"],show=False)\n",
    "resp_bio_ca_3=resp.resp(train_ca_3_df[\"r\"],show=False)\n",
    "resp_bio_ca_4=resp.resp(train_ca_4_df[\"r\"],show=False)\n",
    "resp_bio_ca_5=resp.resp(train_ca_5_df[\"r\"],show=False)\n",
    "resp_bio_ca_6=resp.resp(train_ca_6_df[\"r\"],show=False)\n",
    "resp_bio_ca_7=resp.resp(train_ca_7_df[\"r\"],show=False)\n",
    "resp_bio_ca_8=resp.resp(train_ca_8_df[\"r\"],show=False)\n",
    "resp_bio_ca_13=resp.resp(train_ca_13_df[\"r\"],show=False)\n",
    "\n",
    "# for state \"DA\"\n",
    "resp_bio_da_1=resp.resp(train_da_1_df[\"r\"],show=False)\n",
    "resp_bio_da_2=resp.resp(train_da_2_df[\"r\"],show=False)\n",
    "resp_bio_da_3=resp.resp(train_da_3_df[\"r\"],show=False)\n",
    "resp_bio_da_4=resp.resp(train_da_4_df[\"r\"],show=False)\n",
    "resp_bio_da_5=resp.resp(train_da_5_df[\"r\"],show=False)\n",
    "resp_bio_da_6=resp.resp(train_da_6_df[\"r\"],show=False)\n",
    "resp_bio_da_7=resp.resp(train_da_7_df[\"r\"],show=False)\n",
    "resp_bio_da_8=resp.resp(train_da_8_df[\"r\"],show=False)\n",
    "resp_bio_da_13=resp.resp(train_da_13_df[\"r\"],show=False)\n",
    "\n",
    "# for state \"SS\"\n",
    "resp_bio_ss_1=resp.resp(train_ss_1_df[\"r\"],show=False)\n",
    "resp_bio_ss_2=resp.resp(train_ss_2_df[\"r\"],show=False)\n",
    "resp_bio_ss_3=resp.resp(train_ss_3_df[\"r\"],show=False)\n",
    "resp_bio_ss_4=resp.resp(train_ss_4_df[\"r\"],show=False)\n",
    "resp_bio_ss_5=resp.resp(train_ss_5_df[\"r\"],show=False)\n",
    "resp_bio_ss_6=resp.resp(train_ss_6_df[\"r\"],show=False)\n",
    "resp_bio_ss_7=resp.resp(train_ss_7_df[\"r\"],show=False)\n",
    "resp_bio_ss_8=resp.resp(train_ss_8_df[\"r\"],show=False)\n",
    "resp_bio_ss_13=resp.resp(train_ss_13_df[\"r\"],show=False)"
   ]
  },
  {
   "cell_type": "markdown",
   "id": "02aecf61",
   "metadata": {},
   "source": [
    "#### 2.3.2 Interpolation for respiration rate"
   ]
  },
  {
   "cell_type": "code",
   "execution_count": 34,
   "id": "2df12abe",
   "metadata": {},
   "outputs": [],
   "source": [
    "# for state \"CA\"\n",
    "resp_rate_ca_1 = interpolation_fn(train_ca_1_df[\"time\"],resp_bio_ca_1[\"resp_rate_ts\"],resp_bio_ca_1[\"resp_rate\"])\n",
    "resp_rate_ca_2=interpolation_fn(train_ca_2_df[\"time\"],resp_bio_ca_2[\"resp_rate_ts\"],resp_bio_ca_2[\"resp_rate\"])\n",
    "resp_rate_ca_3=interpolation_fn(train_ca_3_df[\"time\"],resp_bio_ca_3[\"resp_rate_ts\"],resp_bio_ca_3[\"resp_rate\"])\n",
    "resp_rate_ca_4=interpolation_fn(train_ca_4_df[\"time\"],resp_bio_ca_4[\"resp_rate_ts\"],resp_bio_ca_4[\"resp_rate\"])\n",
    "resp_rate_ca_5=interpolation_fn(train_ca_5_df[\"time\"],resp_bio_ca_5[\"resp_rate_ts\"],resp_bio_ca_5[\"resp_rate\"])\n",
    "resp_rate_ca_6=interpolation_fn(train_ca_6_df[\"time\"],resp_bio_ca_6[\"resp_rate_ts\"],resp_bio_ca_6[\"resp_rate\"])\n",
    "resp_rate_ca_7=interpolation_fn(train_ca_7_df[\"time\"],resp_bio_ca_7[\"resp_rate_ts\"],resp_bio_ca_7[\"resp_rate\"])\n",
    "resp_rate_ca_8=interpolation_fn(train_ca_8_df[\"time\"],resp_bio_ca_8[\"resp_rate_ts\"],resp_bio_ca_8[\"resp_rate\"])\n",
    "resp_rate_ca_13=interpolation_fn(train_ca_13_df[\"time\"],resp_bio_ca_13[\"resp_rate_ts\"],resp_bio_ca_13[\"resp_rate\"])\n",
    "\n",
    "# for state \"DA\"\n",
    "resp_rate_da_1=interpolation_fn(train_da_1_df[\"time\"],resp_bio_da_1[\"resp_rate_ts\"],resp_bio_da_1[\"resp_rate\"])\n",
    "resp_rate_da_2=interpolation_fn(train_da_2_df[\"time\"],resp_bio_da_2[\"resp_rate_ts\"],resp_bio_da_2[\"resp_rate\"])\n",
    "resp_rate_da_3=interpolation_fn(train_da_3_df[\"time\"],resp_bio_da_3[\"resp_rate_ts\"],resp_bio_da_3[\"resp_rate\"])\n",
    "resp_rate_da_4=interpolation_fn(train_da_4_df[\"time\"],resp_bio_da_4[\"resp_rate_ts\"],resp_bio_da_4[\"resp_rate\"])\n",
    "resp_rate_da_5=interpolation_fn(train_da_5_df[\"time\"],resp_bio_da_5[\"resp_rate_ts\"],resp_bio_da_5[\"resp_rate\"])\n",
    "resp_rate_da_6=interpolation_fn(train_da_6_df[\"time\"],resp_bio_da_6[\"resp_rate_ts\"],resp_bio_da_6[\"resp_rate\"])\n",
    "resp_rate_da_7=interpolation_fn(train_da_7_df[\"time\"],resp_bio_da_7[\"resp_rate_ts\"],resp_bio_da_7[\"resp_rate\"])\n",
    "resp_rate_da_8=interpolation_fn(train_da_8_df[\"time\"],resp_bio_da_8[\"resp_rate_ts\"],resp_bio_da_8[\"resp_rate\"])\n",
    "resp_rate_da_13=interpolation_fn(train_da_13_df[\"time\"],resp_bio_da_13[\"resp_rate_ts\"],resp_bio_da_13[\"resp_rate\"])\n",
    "\n",
    "# for state \"SS\"\n",
    "resp_rate_ss_1=interpolation_fn(train_ss_1_df[\"time\"],resp_bio_ss_1[\"resp_rate_ts\"],resp_bio_ss_1[\"resp_rate\"])\n",
    "resp_rate_ss_2=interpolation_fn(train_ss_2_df[\"time\"],resp_bio_ss_2[\"resp_rate_ts\"],resp_bio_ss_2[\"resp_rate\"])\n",
    "resp_rate_ss_3=interpolation_fn(train_ss_3_df[\"time\"],resp_bio_ss_3[\"resp_rate_ts\"],resp_bio_ss_3[\"resp_rate\"])\n",
    "resp_rate_ss_4=interpolation_fn(train_ss_4_df[\"time\"],resp_bio_ss_4[\"resp_rate_ts\"],resp_bio_ss_4[\"resp_rate\"])\n",
    "resp_rate_ss_5=interpolation_fn(train_ss_5_df[\"time\"],resp_bio_ss_5[\"resp_rate_ts\"],resp_bio_ss_5[\"resp_rate\"])\n",
    "resp_rate_ss_6=interpolation_fn(train_ss_6_df[\"time\"],resp_bio_ss_6[\"resp_rate_ts\"],resp_bio_ss_6[\"resp_rate\"])\n",
    "resp_rate_ss_7=interpolation_fn(train_ss_7_df[\"time\"],resp_bio_ss_7[\"resp_rate_ts\"],resp_bio_ss_7[\"resp_rate\"])\n",
    "resp_rate_ss_8=interpolation_fn(train_ss_8_df[\"time\"],resp_bio_ss_8[\"resp_rate_ts\"],resp_bio_ss_8[\"resp_rate\"])\n",
    "resp_rate_ss_13=interpolation_fn(train_ss_13_df[\"time\"],resp_bio_ss_13[\"resp_rate_ts\"],resp_bio_ss_13[\"resp_rate\"])"
   ]
  },
  {
   "cell_type": "code",
   "execution_count": 37,
   "id": "d4740607",
   "metadata": {},
   "outputs": [],
   "source": [
    "# concatenate the data in the same order in the train dataframe because we will be including this with the other features\n",
    "resp_rate = np.concatenate(\n",
    "    (resp_rate_ca_1, resp_rate_da_1, resp_rate_ss_1,\n",
    "    resp_rate_ca_2, resp_rate_da_2, resp_rate_ss_2,\n",
    "    resp_rate_ca_3, resp_rate_da_3, resp_rate_ss_3,\n",
    "    resp_rate_ca_4, resp_rate_da_4, resp_rate_ss_4,\n",
    "    resp_rate_ca_5, resp_rate_da_5, resp_rate_ss_5,\n",
    "    resp_rate_ca_6, resp_rate_da_6, resp_rate_ss_6,\n",
    "    resp_rate_ca_7, resp_rate_da_7, resp_rate_ss_7,\n",
    "    resp_rate_ca_8, resp_rate_da_8, resp_rate_ss_8,\n",
    "    resp_rate_ca_13, resp_rate_da_13, resp_rate_ss_13)\n",
    ")"
   ]
  },
  {
   "cell_type": "code",
   "execution_count": 38,
   "id": "ca8e403a",
   "metadata": {},
   "outputs": [
    {
     "data": {
      "text/plain": [
       "(4867421,)"
      ]
     },
     "execution_count": 38,
     "metadata": {},
     "output_type": "execute_result"
    }
   ],
   "source": [
    "resp_rate.shape"
   ]
  },
  {
   "cell_type": "code",
   "execution_count": 58,
   "id": "45b7957a",
   "metadata": {},
   "outputs": [],
   "source": [
    "X_train[\"resp_rate\"] = resp_rate"
   ]
  },
  {
   "cell_type": "markdown",
   "id": "ba331f41",
   "metadata": {},
   "source": [
    "### 2.4 Categorize EEG features"
   ]
  },
  {
   "cell_type": "code",
   "execution_count": 39,
   "id": "f174f9f5",
   "metadata": {},
   "outputs": [
    {
     "data": {
      "text/plain": [
       "Index(['crew', 'experiment', 'time', 'seat', 'eeg_fp1', 'eeg_f7', 'eeg_f8',\n",
       "       'eeg_t4', 'eeg_t6', 'eeg_t5', 'eeg_t3', 'eeg_fp2', 'eeg_o1', 'eeg_p3',\n",
       "       'eeg_pz', 'eeg_f3', 'eeg_fz', 'eeg_f4', 'eeg_c4', 'eeg_p4', 'eeg_poz',\n",
       "       'eeg_c3', 'eeg_cz', 'eeg_o2', 'ecg', 'r', 'gsr', 'event'],\n",
       "      dtype='object')"
      ]
     },
     "execution_count": 39,
     "metadata": {},
     "output_type": "execute_result"
    }
   ],
   "source": [
    "train_df.columns"
   ]
  },
  {
   "cell_type": "code",
   "execution_count": 40,
   "id": "9294bed8",
   "metadata": {},
   "outputs": [],
   "source": [
    "# list of EEG features\n",
    "eeg_features = [\n",
    "                \"eeg_fp1\", \"eeg_f7\", \"eeg_f8\", \"eeg_t4\", \"eeg_t6\", \n",
    "                \"eeg_t5\", \"eeg_t3\", \"eeg_fp2\", \"eeg_o1\", \"eeg_p3\", \n",
    "                \"eeg_pz\", \"eeg_f3\", \"eeg_fz\", \"eeg_f4\", \"eeg_c4\", \n",
    "                \"eeg_p4\", \"eeg_poz\", \"eeg_c3\", \"eeg_cz\", \"eeg_o2\"\n",
    "               ]"
   ]
  },
  {
   "cell_type": "markdown",
   "id": "2d926e8c",
   "metadata": {},
   "source": [
    "#### 2.4.1 Derive frequency bands for EEG "
   ]
  },
  {
   "cell_type": "code",
   "execution_count": 41,
   "id": "4dd6e7ad",
   "metadata": {},
   "outputs": [],
   "source": [
    "# for state \"CA\"\n",
    "eeg_bio_ca_1=eeg.get_power_features(train_ca_1_df[eeg_features])\n",
    "eeg_bio_ca_2=eeg.get_power_features(train_ca_2_df[eeg_features])\n",
    "eeg_bio_ca_3=eeg.get_power_features(train_ca_3_df[eeg_features])\n",
    "eeg_bio_ca_4=eeg.get_power_features(train_ca_4_df[eeg_features])\n",
    "eeg_bio_ca_5=eeg.get_power_features(train_ca_5_df[eeg_features])\n",
    "eeg_bio_ca_6=eeg.get_power_features(train_ca_6_df[eeg_features])\n",
    "eeg_bio_ca_7=eeg.get_power_features(train_ca_7_df[eeg_features])\n",
    "eeg_bio_ca_8=eeg.get_power_features(train_ca_8_df[eeg_features])\n",
    "eeg_bio_ca_13=eeg.get_power_features(train_ca_13_df[eeg_features])\n",
    "\n",
    "# for state \"DA\"\n",
    "eeg_bio_da_1=eeg.get_power_features(train_da_1_df[eeg_features])\n",
    "eeg_bio_da_2=eeg.get_power_features(train_da_2_df[eeg_features])\n",
    "eeg_bio_da_3=eeg.get_power_features(train_da_3_df[eeg_features])\n",
    "eeg_bio_da_4=eeg.get_power_features(train_da_4_df[eeg_features])\n",
    "eeg_bio_da_5=eeg.get_power_features(train_da_5_df[eeg_features])\n",
    "eeg_bio_da_6=eeg.get_power_features(train_da_6_df[eeg_features])\n",
    "eeg_bio_da_7=eeg.get_power_features(train_da_7_df[eeg_features])\n",
    "eeg_bio_da_8=eeg.get_power_features(train_da_8_df[eeg_features])\n",
    "eeg_bio_da_13=eeg.get_power_features(train_da_13_df[eeg_features])\n",
    "\n",
    "# for state \"SS\"\n",
    "eeg_bio_ss_1=eeg.get_power_features(train_ss_1_df[eeg_features])\n",
    "eeg_bio_ss_2=eeg.get_power_features(train_ss_2_df[eeg_features])\n",
    "eeg_bio_ss_3=eeg.get_power_features(train_ss_3_df[eeg_features])\n",
    "eeg_bio_ss_4=eeg.get_power_features(train_ss_4_df[eeg_features])\n",
    "eeg_bio_ss_5=eeg.get_power_features(train_ss_5_df[eeg_features])\n",
    "eeg_bio_ss_6=eeg.get_power_features(train_ss_6_df[eeg_features])\n",
    "eeg_bio_ss_7=eeg.get_power_features(train_ss_7_df[eeg_features])\n",
    "eeg_bio_ss_8=eeg.get_power_features(train_ss_8_df[eeg_features])\n",
    "eeg_bio_ss_13=eeg.get_power_features(train_ss_13_df[eeg_features])"
   ]
  },
  {
   "cell_type": "markdown",
   "id": "7b068d31",
   "metadata": {},
   "source": [
    "Unlike heart and respiration rate which have only one main output, here we have 5 categories with the values of 20 electrodes.\n",
    "Hence, we have to separatly interpolate for the 5 different bands for each of the 20 electrodes."
   ]
  },
  {
   "cell_type": "markdown",
   "id": "0f2cb3e0",
   "metadata": {},
   "source": [
    "#### 2.4.2. Interpolation for \"theta\" band"
   ]
  },
  {
   "cell_type": "code",
   "execution_count": 44,
   "id": "cb336487",
   "metadata": {},
   "outputs": [],
   "source": [
    "# extracting theta band frequency\n",
    "theta_feature=[]\n",
    "for i in eeg_features:\n",
    "    theta_feature.append(i+\"_theta\")\n",
    "\n",
    "for i in range(20):\n",
    "    # we take the theta frequency band and do the interpolation and store the data in the dataframe \n",
    "    theta_ca_1=interpolation_fn(train_ca_1_df[\"time\"],eeg_bio_ca_1[\"ts\"],eeg_bio_ca_1[\"theta\"][:,i])\n",
    "    theta_ca_2=interpolation_fn(train_ca_2_df[\"time\"],eeg_bio_ca_2[\"ts\"],eeg_bio_ca_2[\"theta\"][:,i])\n",
    "    theta_ca_3=interpolation_fn(train_ca_3_df[\"time\"],eeg_bio_ca_3[\"ts\"],eeg_bio_ca_3[\"theta\"][:,i])\n",
    "    theta_ca_4=interpolation_fn(train_ca_4_df[\"time\"],eeg_bio_ca_4[\"ts\"],eeg_bio_ca_4[\"theta\"][:,i])\n",
    "    theta_ca_5=interpolation_fn(train_ca_5_df[\"time\"],eeg_bio_ca_5[\"ts\"],eeg_bio_ca_5[\"theta\"][:,i])\n",
    "    theta_ca_6=interpolation_fn(train_ca_6_df[\"time\"],eeg_bio_ca_6[\"ts\"],eeg_bio_ca_6[\"theta\"][:,i])\n",
    "    theta_ca_7=interpolation_fn(train_ca_7_df[\"time\"],eeg_bio_ca_7[\"ts\"],eeg_bio_ca_7[\"theta\"][:,i])\n",
    "    theta_ca_8=interpolation_fn(train_ca_8_df[\"time\"],eeg_bio_ca_8[\"ts\"],eeg_bio_ca_8[\"theta\"][:,i])\n",
    "    theta_ca_13=interpolation_fn(train_ca_13_df[\"time\"],eeg_bio_ca_13[\"ts\"],eeg_bio_ca_13[\"theta\"][:,i])\n",
    "    \n",
    "    theta_da_1=interpolation_fn(train_da_1_df[\"time\"],eeg_bio_da_1[\"ts\"],eeg_bio_da_1[\"theta\"][:,i])\n",
    "    theta_da_2=interpolation_fn(train_da_2_df[\"time\"],eeg_bio_da_2[\"ts\"],eeg_bio_da_2[\"theta\"][:,i])\n",
    "    theta_da_3=interpolation_fn(train_da_3_df[\"time\"],eeg_bio_da_3[\"ts\"],eeg_bio_da_3[\"theta\"][:,i])\n",
    "    theta_da_4=interpolation_fn(train_da_4_df[\"time\"],eeg_bio_da_4[\"ts\"],eeg_bio_da_4[\"theta\"][:,i])\n",
    "    theta_da_5=interpolation_fn(train_da_5_df[\"time\"],eeg_bio_da_5[\"ts\"],eeg_bio_da_5[\"theta\"][:,i])\n",
    "    theta_da_6=interpolation_fn(train_da_6_df[\"time\"],eeg_bio_da_6[\"ts\"],eeg_bio_da_6[\"theta\"][:,i])\n",
    "    theta_da_7=interpolation_fn(train_da_7_df[\"time\"],eeg_bio_da_7[\"ts\"],eeg_bio_da_7[\"theta\"][:,i])\n",
    "    theta_da_8=interpolation_fn(train_da_8_df[\"time\"],eeg_bio_da_8[\"ts\"],eeg_bio_da_8[\"theta\"][:,i])\n",
    "    theta_da_13=interpolation_fn(train_da_13_df[\"time\"],eeg_bio_da_13[\"ts\"],eeg_bio_da_13[\"theta\"][:,i])\n",
    "    \n",
    "    theta_ss_1=interpolation_fn(train_ss_1_df[\"time\"],eeg_bio_ss_1[\"ts\"],eeg_bio_ss_1[\"theta\"][:,i])\n",
    "    theta_ss_2=interpolation_fn(train_ss_2_df[\"time\"],eeg_bio_ss_2[\"ts\"],eeg_bio_ss_2[\"theta\"][:,i])\n",
    "    theta_ss_3=interpolation_fn(train_ss_3_df[\"time\"],eeg_bio_ss_3[\"ts\"],eeg_bio_ss_3[\"theta\"][:,i])\n",
    "    theta_ss_4=interpolation_fn(train_ss_4_df[\"time\"],eeg_bio_ss_4[\"ts\"],eeg_bio_ss_4[\"theta\"][:,i])\n",
    "    theta_ss_5=interpolation_fn(train_ss_5_df[\"time\"],eeg_bio_ss_5[\"ts\"],eeg_bio_ss_5[\"theta\"][:,i])\n",
    "    theta_ss_6=interpolation_fn(train_ss_6_df[\"time\"],eeg_bio_ss_6[\"ts\"],eeg_bio_ss_6[\"theta\"][:,i])\n",
    "    theta_ss_7=interpolation_fn(train_ss_7_df[\"time\"],eeg_bio_ss_7[\"ts\"],eeg_bio_ss_7[\"theta\"][:,i])\n",
    "    theta_ss_8=interpolation_fn(train_ss_8_df[\"time\"],eeg_bio_ss_8[\"ts\"],eeg_bio_ss_8[\"theta\"][:,i])\n",
    "    theta_ss_13=interpolation_fn(train_ss_13_df[\"time\"],eeg_bio_ss_13[\"ts\"],eeg_bio_ss_13[\"theta\"][:,i])\n",
    "\n",
    "    \n",
    "    # concatenate the data in the same order in the train dataframe because we will be including this with the other features\n",
    "    theta=np.concatenate(\n",
    "        (theta_ca_1, theta_ca_2, theta_ca_3, theta_ca_4, theta_ca_5, theta_ca_6, theta_ca_7, theta_ca_8, theta_ca_13,\n",
    "         theta_da_1, theta_da_2, theta_da_3, theta_da_4, theta_da_5, theta_da_6, theta_da_7, theta_da_8, theta_da_13,\n",
    "         theta_ss_1, theta_ss_2, theta_ss_3, theta_ss_4, theta_ss_5, theta_ss_6, theta_ss_7, theta_ss_8, theta_ss_13)\n",
    "    )\n",
    "\n",
    "    X_train[theta_feature[i]]=theta"
   ]
  },
  {
   "cell_type": "markdown",
   "id": "0b4e76fd",
   "metadata": {},
   "source": [
    "#### 2.4.2. Interpolation for \"alpha low\" band"
   ]
  },
  {
   "cell_type": "code",
   "execution_count": 45,
   "id": "954528a2",
   "metadata": {},
   "outputs": [],
   "source": [
    "# extracting alpha_low band frequency\n",
    "alpha_low_feature=[]\n",
    "for i in eeg_features:\n",
    "    alpha_low_feature.append(i+\"_alpha_low\")\n",
    "\n",
    "for i in range(20):\n",
    "    # we take the alpha_low frequency band and do the interpolation and store the data in the dataframe \n",
    "    alpha_low_ca_1=interpolation_fn(train_ca_1_df[\"time\"],eeg_bio_ca_1[\"ts\"],eeg_bio_ca_1[\"alpha_low\"][:,i])\n",
    "    alpha_low_ca_2=interpolation_fn(train_ca_2_df[\"time\"],eeg_bio_ca_2[\"ts\"],eeg_bio_ca_2[\"alpha_low\"][:,i])\n",
    "    alpha_low_ca_3=interpolation_fn(train_ca_3_df[\"time\"],eeg_bio_ca_3[\"ts\"],eeg_bio_ca_3[\"alpha_low\"][:,i])\n",
    "    alpha_low_ca_4=interpolation_fn(train_ca_4_df[\"time\"],eeg_bio_ca_4[\"ts\"],eeg_bio_ca_4[\"alpha_low\"][:,i])\n",
    "    alpha_low_ca_5=interpolation_fn(train_ca_5_df[\"time\"],eeg_bio_ca_5[\"ts\"],eeg_bio_ca_5[\"alpha_low\"][:,i])\n",
    "    alpha_low_ca_6=interpolation_fn(train_ca_6_df[\"time\"],eeg_bio_ca_6[\"ts\"],eeg_bio_ca_6[\"alpha_low\"][:,i])\n",
    "    alpha_low_ca_7=interpolation_fn(train_ca_7_df[\"time\"],eeg_bio_ca_7[\"ts\"],eeg_bio_ca_7[\"alpha_low\"][:,i])\n",
    "    alpha_low_ca_8=interpolation_fn(train_ca_8_df[\"time\"],eeg_bio_ca_8[\"ts\"],eeg_bio_ca_8[\"alpha_low\"][:,i])\n",
    "    alpha_low_ca_13=interpolation_fn(train_ca_13_df[\"time\"],eeg_bio_ca_13[\"ts\"],eeg_bio_ca_13[\"alpha_low\"][:,i])\n",
    "    \n",
    "    alpha_low_da_1=interpolation_fn(train_da_1_df[\"time\"],eeg_bio_da_1[\"ts\"],eeg_bio_da_1[\"alpha_low\"][:,i])\n",
    "    alpha_low_da_2=interpolation_fn(train_da_2_df[\"time\"],eeg_bio_da_2[\"ts\"],eeg_bio_da_2[\"alpha_low\"][:,i])\n",
    "    alpha_low_da_3=interpolation_fn(train_da_3_df[\"time\"],eeg_bio_da_3[\"ts\"],eeg_bio_da_3[\"alpha_low\"][:,i])\n",
    "    alpha_low_da_4=interpolation_fn(train_da_4_df[\"time\"],eeg_bio_da_4[\"ts\"],eeg_bio_da_4[\"alpha_low\"][:,i])\n",
    "    alpha_low_da_5=interpolation_fn(train_da_5_df[\"time\"],eeg_bio_da_5[\"ts\"],eeg_bio_da_5[\"alpha_low\"][:,i])\n",
    "    alpha_low_da_6=interpolation_fn(train_da_6_df[\"time\"],eeg_bio_da_6[\"ts\"],eeg_bio_da_6[\"alpha_low\"][:,i])\n",
    "    alpha_low_da_7=interpolation_fn(train_da_7_df[\"time\"],eeg_bio_da_7[\"ts\"],eeg_bio_da_7[\"alpha_low\"][:,i])\n",
    "    alpha_low_da_8=interpolation_fn(train_da_8_df[\"time\"],eeg_bio_da_8[\"ts\"],eeg_bio_da_8[\"alpha_low\"][:,i])\n",
    "    alpha_low_da_13=interpolation_fn(train_da_13_df[\"time\"],eeg_bio_da_13[\"ts\"],eeg_bio_da_13[\"alpha_low\"][:,i])\n",
    "    \n",
    "    alpha_low_ss_1=interpolation_fn(train_ss_1_df[\"time\"],eeg_bio_ss_1[\"ts\"],eeg_bio_ss_1[\"alpha_low\"][:,i])\n",
    "    alpha_low_ss_2=interpolation_fn(train_ss_2_df[\"time\"],eeg_bio_ss_2[\"ts\"],eeg_bio_ss_2[\"alpha_low\"][:,i])\n",
    "    alpha_low_ss_3=interpolation_fn(train_ss_3_df[\"time\"],eeg_bio_ss_3[\"ts\"],eeg_bio_ss_3[\"alpha_low\"][:,i])\n",
    "    alpha_low_ss_4=interpolation_fn(train_ss_4_df[\"time\"],eeg_bio_ss_4[\"ts\"],eeg_bio_ss_4[\"alpha_low\"][:,i])\n",
    "    alpha_low_ss_5=interpolation_fn(train_ss_5_df[\"time\"],eeg_bio_ss_5[\"ts\"],eeg_bio_ss_5[\"alpha_low\"][:,i])\n",
    "    alpha_low_ss_6=interpolation_fn(train_ss_6_df[\"time\"],eeg_bio_ss_6[\"ts\"],eeg_bio_ss_6[\"alpha_low\"][:,i])\n",
    "    alpha_low_ss_7=interpolation_fn(train_ss_7_df[\"time\"],eeg_bio_ss_7[\"ts\"],eeg_bio_ss_7[\"alpha_low\"][:,i])\n",
    "    alpha_low_ss_8=interpolation_fn(train_ss_8_df[\"time\"],eeg_bio_ss_8[\"ts\"],eeg_bio_ss_8[\"alpha_low\"][:,i])\n",
    "    alpha_low_ss_13=interpolation_fn(train_ss_13_df[\"time\"],eeg_bio_ss_13[\"ts\"],eeg_bio_ss_13[\"alpha_low\"][:,i])\n",
    "\n",
    "    \n",
    "    # concatenate the data in the same order in the train dataframe because we will be including this with the other features\n",
    "    alpha_low=np.concatenate(\n",
    "        (alpha_low_ca_1, alpha_low_ca_2, alpha_low_ca_3, alpha_low_ca_4, alpha_low_ca_5, alpha_low_ca_6, alpha_low_ca_7, alpha_low_ca_8, alpha_low_ca_13,\n",
    "         alpha_low_da_1, alpha_low_da_2, alpha_low_da_3, alpha_low_da_4, alpha_low_da_5, alpha_low_da_6, alpha_low_da_7, alpha_low_da_8, alpha_low_da_13,\n",
    "         alpha_low_ss_1, alpha_low_ss_2, alpha_low_ss_3, alpha_low_ss_4, alpha_low_ss_5, alpha_low_ss_6, alpha_low_ss_7, alpha_low_ss_8, alpha_low_ss_13)\n",
    "    )\n",
    "\n",
    "    X_train[alpha_low_feature[i]]=alpha_low"
   ]
  },
  {
   "cell_type": "code",
   "execution_count": 46,
   "id": "59268d42",
   "metadata": {},
   "outputs": [
    {
     "data": {
      "text/plain": [
       "(4867421,)"
      ]
     },
     "execution_count": 46,
     "metadata": {},
     "output_type": "execute_result"
    }
   ],
   "source": [
    "alpha_low.shape"
   ]
  },
  {
   "cell_type": "markdown",
   "id": "039c8bc6",
   "metadata": {},
   "source": [
    "#### 2.4.3. Interpolation for \"alpha high\" band"
   ]
  },
  {
   "cell_type": "code",
   "execution_count": 47,
   "id": "b57ac3fc",
   "metadata": {},
   "outputs": [],
   "source": [
    "# extracting alpha_high band frequency\n",
    "alpha_high_feature=[]\n",
    "for i in eeg_features:\n",
    "    alpha_high_feature.append(i+\"_alpha_high\")\n",
    "\n",
    "for i in range(20):\n",
    "    # we take the alpha_high frequency band and do the interpolation and store the data in the dataframe \n",
    "    alpha_high_ca_1=interpolation_fn(train_ca_1_df[\"time\"],eeg_bio_ca_1[\"ts\"],eeg_bio_ca_1[\"alpha_high\"][:,i])\n",
    "    alpha_high_ca_2=interpolation_fn(train_ca_2_df[\"time\"],eeg_bio_ca_2[\"ts\"],eeg_bio_ca_2[\"alpha_high\"][:,i])\n",
    "    alpha_high_ca_3=interpolation_fn(train_ca_3_df[\"time\"],eeg_bio_ca_3[\"ts\"],eeg_bio_ca_3[\"alpha_high\"][:,i])\n",
    "    alpha_high_ca_4=interpolation_fn(train_ca_4_df[\"time\"],eeg_bio_ca_4[\"ts\"],eeg_bio_ca_4[\"alpha_high\"][:,i])\n",
    "    alpha_high_ca_5=interpolation_fn(train_ca_5_df[\"time\"],eeg_bio_ca_5[\"ts\"],eeg_bio_ca_5[\"alpha_high\"][:,i])\n",
    "    alpha_high_ca_6=interpolation_fn(train_ca_6_df[\"time\"],eeg_bio_ca_6[\"ts\"],eeg_bio_ca_6[\"alpha_high\"][:,i])\n",
    "    alpha_high_ca_7=interpolation_fn(train_ca_7_df[\"time\"],eeg_bio_ca_7[\"ts\"],eeg_bio_ca_7[\"alpha_high\"][:,i])\n",
    "    alpha_high_ca_8=interpolation_fn(train_ca_8_df[\"time\"],eeg_bio_ca_8[\"ts\"],eeg_bio_ca_8[\"alpha_high\"][:,i])\n",
    "    alpha_high_ca_13=interpolation_fn(train_ca_13_df[\"time\"],eeg_bio_ca_13[\"ts\"],eeg_bio_ca_13[\"alpha_high\"][:,i])\n",
    "    \n",
    "    alpha_high_da_1=interpolation_fn(train_da_1_df[\"time\"],eeg_bio_da_1[\"ts\"],eeg_bio_da_1[\"alpha_high\"][:,i])\n",
    "    alpha_high_da_2=interpolation_fn(train_da_2_df[\"time\"],eeg_bio_da_2[\"ts\"],eeg_bio_da_2[\"alpha_high\"][:,i])\n",
    "    alpha_high_da_3=interpolation_fn(train_da_3_df[\"time\"],eeg_bio_da_3[\"ts\"],eeg_bio_da_3[\"alpha_high\"][:,i])\n",
    "    alpha_high_da_4=interpolation_fn(train_da_4_df[\"time\"],eeg_bio_da_4[\"ts\"],eeg_bio_da_4[\"alpha_high\"][:,i])\n",
    "    alpha_high_da_5=interpolation_fn(train_da_5_df[\"time\"],eeg_bio_da_5[\"ts\"],eeg_bio_da_5[\"alpha_high\"][:,i])\n",
    "    alpha_high_da_6=interpolation_fn(train_da_6_df[\"time\"],eeg_bio_da_6[\"ts\"],eeg_bio_da_6[\"alpha_high\"][:,i])\n",
    "    alpha_high_da_7=interpolation_fn(train_da_7_df[\"time\"],eeg_bio_da_7[\"ts\"],eeg_bio_da_7[\"alpha_high\"][:,i])\n",
    "    alpha_high_da_8=interpolation_fn(train_da_8_df[\"time\"],eeg_bio_da_8[\"ts\"],eeg_bio_da_8[\"alpha_high\"][:,i])\n",
    "    alpha_high_da_13=interpolation_fn(train_da_13_df[\"time\"],eeg_bio_da_13[\"ts\"],eeg_bio_da_13[\"alpha_high\"][:,i])\n",
    "    \n",
    "    alpha_high_ss_1=interpolation_fn(train_ss_1_df[\"time\"],eeg_bio_ss_1[\"ts\"],eeg_bio_ss_1[\"alpha_high\"][:,i])\n",
    "    alpha_high_ss_2=interpolation_fn(train_ss_2_df[\"time\"],eeg_bio_ss_2[\"ts\"],eeg_bio_ss_2[\"alpha_high\"][:,i])\n",
    "    alpha_high_ss_3=interpolation_fn(train_ss_3_df[\"time\"],eeg_bio_ss_3[\"ts\"],eeg_bio_ss_3[\"alpha_high\"][:,i])\n",
    "    alpha_high_ss_4=interpolation_fn(train_ss_4_df[\"time\"],eeg_bio_ss_4[\"ts\"],eeg_bio_ss_4[\"alpha_high\"][:,i])\n",
    "    alpha_high_ss_5=interpolation_fn(train_ss_5_df[\"time\"],eeg_bio_ss_5[\"ts\"],eeg_bio_ss_5[\"alpha_high\"][:,i])\n",
    "    alpha_high_ss_6=interpolation_fn(train_ss_6_df[\"time\"],eeg_bio_ss_6[\"ts\"],eeg_bio_ss_6[\"alpha_high\"][:,i])\n",
    "    alpha_high_ss_7=interpolation_fn(train_ss_7_df[\"time\"],eeg_bio_ss_7[\"ts\"],eeg_bio_ss_7[\"alpha_high\"][:,i])\n",
    "    alpha_high_ss_8=interpolation_fn(train_ss_8_df[\"time\"],eeg_bio_ss_8[\"ts\"],eeg_bio_ss_8[\"alpha_high\"][:,i])\n",
    "    alpha_high_ss_13=interpolation_fn(train_ss_13_df[\"time\"],eeg_bio_ss_13[\"ts\"],eeg_bio_ss_13[\"alpha_high\"][:,i])\n",
    "\n",
    "    \n",
    "    # concatenate the data in the same order in the train dataframe because we will be including this with the other features\n",
    "    alpha_high=np.concatenate(\n",
    "        (alpha_high_ca_1, alpha_high_ca_2, alpha_high_ca_3, alpha_high_ca_4, alpha_high_ca_5, alpha_high_ca_6, alpha_high_ca_7, alpha_high_ca_8, alpha_high_ca_13,\n",
    "         alpha_high_da_1, alpha_high_da_2, alpha_high_da_3, alpha_high_da_4, alpha_high_da_5, alpha_high_da_6, alpha_high_da_7, alpha_high_da_8, alpha_high_da_13,\n",
    "         alpha_high_ss_1, alpha_high_ss_2, alpha_high_ss_3, alpha_high_ss_4, alpha_high_ss_5, alpha_high_ss_6, alpha_high_ss_7, alpha_high_ss_8, alpha_high_ss_13)\n",
    "    )\n",
    "\n",
    "    X_train[alpha_high_feature[i]]=alpha_high"
   ]
  },
  {
   "cell_type": "markdown",
   "id": "5d001457",
   "metadata": {},
   "source": [
    "#### 2.4.4. Interpolation for \"beta\" band"
   ]
  },
  {
   "cell_type": "code",
   "execution_count": 48,
   "id": "9cea2836",
   "metadata": {},
   "outputs": [],
   "source": [
    "# extracting beta band frequency\n",
    "beta_feature=[]\n",
    "for i in eeg_features:\n",
    "    beta_feature.append(i+\"_beta\")\n",
    "\n",
    "for i in range(20):\n",
    "    # we take the beta frequency band and do the interpolation and store the data in the dataframe \n",
    "    beta_ca_1=interpolation_fn(train_ca_1_df[\"time\"],eeg_bio_ca_1[\"ts\"],eeg_bio_ca_1[\"beta\"][:,i])\n",
    "    beta_ca_2=interpolation_fn(train_ca_2_df[\"time\"],eeg_bio_ca_2[\"ts\"],eeg_bio_ca_2[\"beta\"][:,i])\n",
    "    beta_ca_3=interpolation_fn(train_ca_3_df[\"time\"],eeg_bio_ca_3[\"ts\"],eeg_bio_ca_3[\"beta\"][:,i])\n",
    "    beta_ca_4=interpolation_fn(train_ca_4_df[\"time\"],eeg_bio_ca_4[\"ts\"],eeg_bio_ca_4[\"beta\"][:,i])\n",
    "    beta_ca_5=interpolation_fn(train_ca_5_df[\"time\"],eeg_bio_ca_5[\"ts\"],eeg_bio_ca_5[\"beta\"][:,i])\n",
    "    beta_ca_6=interpolation_fn(train_ca_6_df[\"time\"],eeg_bio_ca_6[\"ts\"],eeg_bio_ca_6[\"beta\"][:,i])\n",
    "    beta_ca_7=interpolation_fn(train_ca_7_df[\"time\"],eeg_bio_ca_7[\"ts\"],eeg_bio_ca_7[\"beta\"][:,i])\n",
    "    beta_ca_8=interpolation_fn(train_ca_8_df[\"time\"],eeg_bio_ca_8[\"ts\"],eeg_bio_ca_8[\"beta\"][:,i])\n",
    "    beta_ca_13=interpolation_fn(train_ca_13_df[\"time\"],eeg_bio_ca_13[\"ts\"],eeg_bio_ca_13[\"beta\"][:,i])\n",
    "    \n",
    "    beta_da_1=interpolation_fn(train_da_1_df[\"time\"],eeg_bio_da_1[\"ts\"],eeg_bio_da_1[\"beta\"][:,i])\n",
    "    beta_da_2=interpolation_fn(train_da_2_df[\"time\"],eeg_bio_da_2[\"ts\"],eeg_bio_da_2[\"beta\"][:,i])\n",
    "    beta_da_3=interpolation_fn(train_da_3_df[\"time\"],eeg_bio_da_3[\"ts\"],eeg_bio_da_3[\"beta\"][:,i])\n",
    "    beta_da_4=interpolation_fn(train_da_4_df[\"time\"],eeg_bio_da_4[\"ts\"],eeg_bio_da_4[\"beta\"][:,i])\n",
    "    beta_da_5=interpolation_fn(train_da_5_df[\"time\"],eeg_bio_da_5[\"ts\"],eeg_bio_da_5[\"beta\"][:,i])\n",
    "    beta_da_6=interpolation_fn(train_da_6_df[\"time\"],eeg_bio_da_6[\"ts\"],eeg_bio_da_6[\"beta\"][:,i])\n",
    "    beta_da_7=interpolation_fn(train_da_7_df[\"time\"],eeg_bio_da_7[\"ts\"],eeg_bio_da_7[\"beta\"][:,i])\n",
    "    beta_da_8=interpolation_fn(train_da_8_df[\"time\"],eeg_bio_da_8[\"ts\"],eeg_bio_da_8[\"beta\"][:,i])\n",
    "    beta_da_13=interpolation_fn(train_da_13_df[\"time\"],eeg_bio_da_13[\"ts\"],eeg_bio_da_13[\"beta\"][:,i])\n",
    "    \n",
    "    beta_ss_1=interpolation_fn(train_ss_1_df[\"time\"],eeg_bio_ss_1[\"ts\"],eeg_bio_ss_1[\"beta\"][:,i])\n",
    "    beta_ss_2=interpolation_fn(train_ss_2_df[\"time\"],eeg_bio_ss_2[\"ts\"],eeg_bio_ss_2[\"beta\"][:,i])\n",
    "    beta_ss_3=interpolation_fn(train_ss_3_df[\"time\"],eeg_bio_ss_3[\"ts\"],eeg_bio_ss_3[\"beta\"][:,i])\n",
    "    beta_ss_4=interpolation_fn(train_ss_4_df[\"time\"],eeg_bio_ss_4[\"ts\"],eeg_bio_ss_4[\"beta\"][:,i])\n",
    "    beta_ss_5=interpolation_fn(train_ss_5_df[\"time\"],eeg_bio_ss_5[\"ts\"],eeg_bio_ss_5[\"beta\"][:,i])\n",
    "    beta_ss_6=interpolation_fn(train_ss_6_df[\"time\"],eeg_bio_ss_6[\"ts\"],eeg_bio_ss_6[\"beta\"][:,i])\n",
    "    beta_ss_7=interpolation_fn(train_ss_7_df[\"time\"],eeg_bio_ss_7[\"ts\"],eeg_bio_ss_7[\"beta\"][:,i])\n",
    "    beta_ss_8=interpolation_fn(train_ss_8_df[\"time\"],eeg_bio_ss_8[\"ts\"],eeg_bio_ss_8[\"beta\"][:,i])\n",
    "    beta_ss_13=interpolation_fn(train_ss_13_df[\"time\"],eeg_bio_ss_13[\"ts\"],eeg_bio_ss_13[\"beta\"][:,i])\n",
    "\n",
    "    \n",
    "    # concatenate the data in the same order in the train dataframe because we will be including this with the other features\n",
    "    beta=np.concatenate(\n",
    "        (beta_ca_1, beta_ca_2, beta_ca_3, beta_ca_4, beta_ca_5, beta_ca_6, beta_ca_7, beta_ca_8, beta_ca_13,\n",
    "         beta_da_1, beta_da_2, beta_da_3, beta_da_4, beta_da_5, beta_da_6, beta_da_7, beta_da_8, beta_da_13,\n",
    "         beta_ss_1, beta_ss_2, beta_ss_3, beta_ss_4, beta_ss_5, beta_ss_6, beta_ss_7, beta_ss_8, beta_ss_13)\n",
    "    )\n",
    "\n",
    "    X_train[beta_feature[i]]=beta"
   ]
  },
  {
   "cell_type": "markdown",
   "id": "fb8155fb",
   "metadata": {},
   "source": [
    "#### 2.4.5. Interpolation for \"gamma\" band"
   ]
  },
  {
   "cell_type": "code",
   "execution_count": 49,
   "id": "21643b4a",
   "metadata": {},
   "outputs": [],
   "source": [
    "# extracting gamma band frequency\n",
    "gamma_feature=[]\n",
    "for i in eeg_features:\n",
    "    gamma_feature.append(i+\"_gamma\")\n",
    "\n",
    "for i in range(20):\n",
    "    # we take the gamma frequency band and do the interpolation and store the data in the dataframe \n",
    "    gamma_ca_1=interpolation_fn(train_ca_1_df[\"time\"],eeg_bio_ca_1[\"ts\"],eeg_bio_ca_1[\"gamma\"][:,i])\n",
    "    gamma_ca_2=interpolation_fn(train_ca_2_df[\"time\"],eeg_bio_ca_2[\"ts\"],eeg_bio_ca_2[\"gamma\"][:,i])\n",
    "    gamma_ca_3=interpolation_fn(train_ca_3_df[\"time\"],eeg_bio_ca_3[\"ts\"],eeg_bio_ca_3[\"gamma\"][:,i])\n",
    "    gamma_ca_4=interpolation_fn(train_ca_4_df[\"time\"],eeg_bio_ca_4[\"ts\"],eeg_bio_ca_4[\"gamma\"][:,i])\n",
    "    gamma_ca_5=interpolation_fn(train_ca_5_df[\"time\"],eeg_bio_ca_5[\"ts\"],eeg_bio_ca_5[\"gamma\"][:,i])\n",
    "    gamma_ca_6=interpolation_fn(train_ca_6_df[\"time\"],eeg_bio_ca_6[\"ts\"],eeg_bio_ca_6[\"gamma\"][:,i])\n",
    "    gamma_ca_7=interpolation_fn(train_ca_7_df[\"time\"],eeg_bio_ca_7[\"ts\"],eeg_bio_ca_7[\"gamma\"][:,i])\n",
    "    gamma_ca_8=interpolation_fn(train_ca_8_df[\"time\"],eeg_bio_ca_8[\"ts\"],eeg_bio_ca_8[\"gamma\"][:,i])\n",
    "    gamma_ca_13=interpolation_fn(train_ca_13_df[\"time\"],eeg_bio_ca_13[\"ts\"],eeg_bio_ca_13[\"gamma\"][:,i])\n",
    "    \n",
    "    gamma_da_1=interpolation_fn(train_da_1_df[\"time\"],eeg_bio_da_1[\"ts\"],eeg_bio_da_1[\"gamma\"][:,i])\n",
    "    gamma_da_2=interpolation_fn(train_da_2_df[\"time\"],eeg_bio_da_2[\"ts\"],eeg_bio_da_2[\"gamma\"][:,i])\n",
    "    gamma_da_3=interpolation_fn(train_da_3_df[\"time\"],eeg_bio_da_3[\"ts\"],eeg_bio_da_3[\"gamma\"][:,i])\n",
    "    gamma_da_4=interpolation_fn(train_da_4_df[\"time\"],eeg_bio_da_4[\"ts\"],eeg_bio_da_4[\"gamma\"][:,i])\n",
    "    gamma_da_5=interpolation_fn(train_da_5_df[\"time\"],eeg_bio_da_5[\"ts\"],eeg_bio_da_5[\"gamma\"][:,i])\n",
    "    gamma_da_6=interpolation_fn(train_da_6_df[\"time\"],eeg_bio_da_6[\"ts\"],eeg_bio_da_6[\"gamma\"][:,i])\n",
    "    gamma_da_7=interpolation_fn(train_da_7_df[\"time\"],eeg_bio_da_7[\"ts\"],eeg_bio_da_7[\"gamma\"][:,i])\n",
    "    gamma_da_8=interpolation_fn(train_da_8_df[\"time\"],eeg_bio_da_8[\"ts\"],eeg_bio_da_8[\"gamma\"][:,i])\n",
    "    gamma_da_13=interpolation_fn(train_da_13_df[\"time\"],eeg_bio_da_13[\"ts\"],eeg_bio_da_13[\"gamma\"][:,i])\n",
    "    \n",
    "    gamma_ss_1=interpolation_fn(train_ss_1_df[\"time\"],eeg_bio_ss_1[\"ts\"],eeg_bio_ss_1[\"gamma\"][:,i])\n",
    "    gamma_ss_2=interpolation_fn(train_ss_2_df[\"time\"],eeg_bio_ss_2[\"ts\"],eeg_bio_ss_2[\"gamma\"][:,i])\n",
    "    gamma_ss_3=interpolation_fn(train_ss_3_df[\"time\"],eeg_bio_ss_3[\"ts\"],eeg_bio_ss_3[\"gamma\"][:,i])\n",
    "    gamma_ss_4=interpolation_fn(train_ss_4_df[\"time\"],eeg_bio_ss_4[\"ts\"],eeg_bio_ss_4[\"gamma\"][:,i])\n",
    "    gamma_ss_5=interpolation_fn(train_ss_5_df[\"time\"],eeg_bio_ss_5[\"ts\"],eeg_bio_ss_5[\"gamma\"][:,i])\n",
    "    gamma_ss_6=interpolation_fn(train_ss_6_df[\"time\"],eeg_bio_ss_6[\"ts\"],eeg_bio_ss_6[\"gamma\"][:,i])\n",
    "    gamma_ss_7=interpolation_fn(train_ss_7_df[\"time\"],eeg_bio_ss_7[\"ts\"],eeg_bio_ss_7[\"gamma\"][:,i])\n",
    "    gamma_ss_8=interpolation_fn(train_ss_8_df[\"time\"],eeg_bio_ss_8[\"ts\"],eeg_bio_ss_8[\"gamma\"][:,i])\n",
    "    gamma_ss_13=interpolation_fn(train_ss_13_df[\"time\"],eeg_bio_ss_13[\"ts\"],eeg_bio_ss_13[\"gamma\"][:,i])\n",
    "\n",
    "    \n",
    "    # concatenate the data in the same order in the train dataframe because we will be including this with the other features \n",
    "    gamma=np.concatenate(\n",
    "        (gamma_ca_1, gamma_ca_2, gamma_ca_3, gamma_ca_4, gamma_ca_5, gamma_ca_6, gamma_ca_7, gamma_ca_8, gamma_ca_13,\n",
    "         gamma_da_1, gamma_da_2, gamma_da_3, gamma_da_4, gamma_da_5, gamma_da_6, gamma_da_7, gamma_da_8, gamma_da_13,\n",
    "         gamma_ss_1, gamma_ss_2, gamma_ss_3, gamma_ss_4, gamma_ss_5, gamma_ss_6, gamma_ss_7, gamma_ss_8, gamma_ss_13)\n",
    "    )\n",
    "\n",
    "    X_train[gamma_feature[i]]=gamma"
   ]
  },
  {
   "cell_type": "markdown",
   "id": "29df8b69",
   "metadata": {},
   "source": [
    "## 3. Convert output labels to integers"
   ]
  },
  {
   "cell_type": "code",
   "execution_count": 50,
   "id": "b1dc8a2b",
   "metadata": {},
   "outputs": [],
   "source": [
    "# assign int values\n",
    "event_labels={\"A\":0,\"B\":1,\"C\":2,\"D\":3}\n",
    "events=train_df[\"event\"]\n",
    "events=list(map(lambda i:event_labels[i],events))\n",
    "X_train[\"y_label\"]=events"
   ]
  },
  {
   "cell_type": "code",
   "execution_count": 60,
   "id": "3fd01759",
   "metadata": {},
   "outputs": [
    {
     "data": {
      "text/plain": [
       "(4867421, 138)"
      ]
     },
     "execution_count": 60,
     "metadata": {},
     "output_type": "execute_result"
    }
   ],
   "source": [
    "X_train.shape"
   ]
  },
  {
   "cell_type": "markdown",
   "id": "5cc55f02",
   "metadata": {},
   "source": [
    "We have 138 columns now:\n",
    "1. 100 eeg band features\n",
    "2. 11 for categorical\n",
    "3. 2 for heart and respiration rate\n",
    "4. 20 for EEG electrodes \n",
    "5. 'time', 'ECG', 'GSR' and 'r'\n",
    "6. 1 Output label\n",
    "\n",
    "## 4. Save final data"
   ]
  },
  {
   "cell_type": "code",
   "execution_count": null,
   "id": "37f27f2e",
   "metadata": {},
   "outputs": [],
   "source": [
    "# save the processed data to csv\n",
    "X_train.to_csv(\"final.csv\")"
   ]
  }
 ],
 "metadata": {
  "kernelspec": {
   "display_name": "Python 3 (ipykernel)",
   "language": "python",
   "name": "python3"
  },
  "language_info": {
   "codemirror_mode": {
    "name": "ipython",
    "version": 3
   },
   "file_extension": ".py",
   "mimetype": "text/x-python",
   "name": "python",
   "nbconvert_exporter": "python",
   "pygments_lexer": "ipython3",
   "version": "3.8.0"
  }
 },
 "nbformat": 4,
 "nbformat_minor": 5
}
